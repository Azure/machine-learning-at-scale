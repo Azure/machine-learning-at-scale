{
 "cells": [
  {
   "cell_type": "code",
   "execution_count": null,
   "metadata": {},
   "outputs": [],
   "source": [
    "from azureml.core import Workspace, Run\n",
    "from azureml.tensorboard import Tensorboard\n",
    "ws = Workspace.from_config()\n",
    "run_id = \"\" # input your run id here\n",
    "run = Run.get(workspace=ws, run_id=run_id)"
   ]
  },
  {
   "cell_type": "code",
   "execution_count": null,
   "metadata": {},
   "outputs": [],
   "source": [
    "tb = Tensorboard([run], local_root=\"logs/azureml\", port=6006)\n",
    "tb.start()"
   ]
  },
  {
   "cell_type": "code",
   "execution_count": null,
   "metadata": {},
   "outputs": [],
   "source": [
    "tb.stop()"
   ]
  }
 ],
 "metadata": {
  "interpreter": {
   "hash": "c10229b7cc312618cfc9408206359580296dd866b8a068feaf7c6af0ab6fe085"
  },
  "kernelspec": {
   "display_name": "Python 3.6.13 64-bit ('nni': conda)",
   "name": "python3"
  },
  "language_info": {
   "codemirror_mode": {
    "name": "ipython",
    "version": 3
   },
   "file_extension": ".py",
   "mimetype": "text/x-python",
   "name": "python",
   "nbconvert_exporter": "python",
   "pygments_lexer": "ipython3",
   "version": "3.6.13"
  },
  "orig_nbformat": 4
 },
 "nbformat": 4,
 "nbformat_minor": 2
}
